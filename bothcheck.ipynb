{
 "cells": [
  {
   "cell_type": "code",
   "execution_count": 214,
   "id": "59945d7e",
   "metadata": {},
   "outputs": [
    {
     "name": "stdout",
     "output_type": "stream",
     "text": [
      "Defaulting to user installation because normal site-packages is not writeable\n",
      "Requirement already satisfied: chess in c:\\users\\mmh19\\appdata\\roaming\\python\\python39\\site-packages (1.9.3)\n"
     ]
    }
   ],
   "source": [
    "!pip install chess"
   ]
  },
  {
   "cell_type": "code",
   "execution_count": 215,
   "id": "63a6687e",
   "metadata": {},
   "outputs": [],
   "source": [
    "from stockfish import Stockfish\n",
    "from stockfish import StockfishException\n",
    "import pandas as pd\n",
    "import numpy as np\n",
    "import re\n",
    "import chess\n",
    "import random"
   ]
  },
  {
   "cell_type": "code",
   "execution_count": 221,
   "id": "589999ec",
   "metadata": {},
   "outputs": [],
   "source": [
    "def checkcheckW(pos):\n",
    "    def make_matrix(board): #type(board) == chess.Board()\n",
    "        pgn = board\n",
    "        foo = []  #Final board\n",
    "        pieces = pgn.split(\" \", 1)[0]\n",
    "        rows = pieces.split(\"/\")\n",
    "        for row in rows:\n",
    "            foo2 = []  #This is the row I make\n",
    "            for thing in row:\n",
    "                if thing.isdigit():\n",
    "                    for i in range(0, int(thing)):\n",
    "                        foo2.append('.')\n",
    "                else:\n",
    "                    foo2.append(thing)\n",
    "            foo.append(foo2)\n",
    "        return foo\n",
    "    whites = ['Q','K','R','B','N','P']\n",
    "    blacks = ['q', 'k', 'r', 'b', 'n', 'p']\n",
    "    a = make_matrix(pos)\n",
    "    check = bool()\n",
    "    pos = []\n",
    "    for i in range(8):\n",
    "        for j in range(8):\n",
    "            if a[i][j] == 'K':\n",
    "                pos.append(i)\n",
    "                pos.append(j)\n",
    "    for i in list(reversed(range(pos[1]))):\n",
    "        if a[pos[0]][i] in whites or a[pos[0]][i] in list(blacks[j] for j in [1,3,4,5]):\n",
    "            break\n",
    "        elif a[pos[0]][i] == 'q' or a[pos[0]][i]== 'r':\n",
    "            check = True\n",
    "            break\n",
    "    for i in list(range(pos[1]+1,8)):\n",
    "        if a[pos[0]][i] in whites or a[pos[0]][i] in list(blacks[j] for j in [1,3,4,5]):\n",
    "            break\n",
    "        elif a[pos[0]][i] == 'q' or a[pos[0]][i]== 'r':\n",
    "            check = True\n",
    "            break\n",
    "    for i in list(reversed(range(pos[0]))):\n",
    "        if a[i][pos[1]] in whites or a[i][pos[1]] in list(blacks[j] for j in [1,3,4,5]):\n",
    "            break\n",
    "        elif a[i][pos[1]] == 'q' or a[i][pos[1]]== 'r':\n",
    "            check = True\n",
    "            break\n",
    "    for i in list(range(pos[0]+1,8)):\n",
    "        if a[i][pos[1]] in whites or a[i][pos[1]] in list(blacks[j] for j in [1,3,4,5]):\n",
    "            break\n",
    "        elif a[i][pos[1]] == 'q' or a[i][pos[1]]== 'r':\n",
    "            check = True\n",
    "            break\n",
    "    r = 8 - np.maximum(abs(pos[0]), abs(pos[1]))\n",
    "    r1 = np.minimum(abs(pos[0]), abs(pos[1]))\n",
    "    r2 = np.minimum(r,r1)\n",
    "    for i in list(range(1,r)):\n",
    "        if a[pos[0]+i][pos[1]+i] in whites or a[pos[0]+i][pos[1]+i] in list(blacks[j] for j in [1,2,4,5]):\n",
    "            break\n",
    "        elif a[pos[0]+i][pos[1]+i] == 'b' or a[pos[0]+i][pos[1]+i] == 'q':\n",
    "            check = True\n",
    "            break\n",
    "    for i in list(range(1,r2)):\n",
    "        if a[pos[0]-i][pos[1]+i] in whites or a[pos[0]-i][pos[1]+i] in list(blacks[j] for j in [1,2,4,5]):\n",
    "            break\n",
    "        elif a[pos[0]-i][pos[1]+i] == 'b' or a[pos[0]-i][pos[1]+i] == 'q':\n",
    "            check = True\n",
    "            break\n",
    "    for i in list(range(1,r2)):\n",
    "        if a[pos[0]-i][pos[1]-i] in whites or a[pos[0]-i][pos[1]-i] in list(blacks[j] for j in [1,2,4,5]):\n",
    "            break\n",
    "        elif a[pos[0]-i][pos[1]-i] == 'b' or a[pos[0]-i][pos[1]-i] == 'q':\n",
    "            check = True\n",
    "            break\n",
    "    for i in list(range(1,r)):\n",
    "        if a[pos[0]+i][pos[1]-i] in whites or a[pos[0]+i][pos[1]-i] in list(blacks[j] for j in [1,2,4,5]):\n",
    "            break\n",
    "        elif a[pos[0]+i][pos[1]-i] == 'b' or a[pos[0]+i][pos[1]-i] == 'q':\n",
    "            check = True\n",
    "            break\n",
    "    if pos[0]+2 < 8 and pos[1]-1 > 0 and a[pos[0]+2][pos[1]-1] == 'n':\n",
    "        check = True\n",
    "    if pos[0]+2 < 8 and pos[1]+1 < 8 and a[pos[0]+2][pos[1]+1] == 'n':\n",
    "        check = True\n",
    "    if pos[0]-2 > 0 and pos[1]-1 > 0 and a[pos[0]-2][pos[1]-1] == 'n':\n",
    "        check = True\n",
    "    if pos[0]-2 > 0 and pos[1]+1 < 8 and a[pos[0]-2][pos[1]+1] == 'n':\n",
    "        check = True\n",
    "    if pos[0]+1 < 8 and pos[1]-2 > 0 and a[pos[0]+1][pos[1]-2] == 'n':\n",
    "        check = True\n",
    "    if pos[0]+1 < 8 and pos[1]+2 < 8 and a[pos[0]+1][pos[1]+2] == 'n':\n",
    "        check = True\n",
    "    if pos[0]-1 > 0 and pos[1]-2 > 0 and a[pos[0]-1][pos[1]-2] == 'n':\n",
    "        check = True\n",
    "    if pos[0]-1 > 0 and pos[1]+2 < 8 and a[pos[0]-1][pos[1]+2] == 'n':\n",
    "        check = True\n",
    "    if pos[0]-1 > 0 and pos[1]-1 > 0 and a[pos[0]-1][pos[1]-1] == 'p':\n",
    "        check = True\n",
    "    if pos[0]-1 > 0 and pos[1]+1 < 8 and a[pos[0]-1][pos[1]+1] == 'p':\n",
    "        check = True\n",
    "    return check"
   ]
  },
  {
   "cell_type": "code",
   "execution_count": 222,
   "id": "19622a20",
   "metadata": {},
   "outputs": [],
   "source": [
    "def checkcheckB(pos):\n",
    "    def make_matrix(board): #type(board) == chess.Board()\n",
    "        pgn = board\n",
    "        foo = []  #Final board\n",
    "        pieces = pgn.split(\" \", 1)[0]\n",
    "        rows = pieces.split(\"/\")\n",
    "        for row in rows:\n",
    "            foo2 = []  #This is the row I make\n",
    "            for thing in row:\n",
    "                if thing.isdigit():\n",
    "                    for i in range(0, int(thing)):\n",
    "                        foo2.append('.')\n",
    "                else:\n",
    "                    foo2.append(thing)\n",
    "            foo.append(foo2)\n",
    "        return foo\n",
    "    whites = ['Q','K','R','B','N','P']\n",
    "    blacks = ['q', 'k', 'r', 'b', 'n', 'p']\n",
    "    a = make_matrix(pos)\n",
    "    check = bool()\n",
    "    pos = []\n",
    "    for i in range(8):\n",
    "        for j in range(8):\n",
    "            if a[i][j] == 'k':\n",
    "                pos.append(i)\n",
    "                pos.append(j)\n",
    "    for i in list(reversed(range(pos[1]))):\n",
    "        if a[pos[0]][i] in blacks or a[pos[0]][i] in list(whites[j] for j in [1,3,4,5]):\n",
    "            break\n",
    "        elif a[pos[0]][i] == 'Q' or a[pos[0]][i]== 'R':\n",
    "            check = True\n",
    "            break\n",
    "    for i in list(range(pos[1]+1,8)):\n",
    "        if a[pos[0]][i] in blacks or a[pos[0]][i] in list(whites[j] for j in [1,3,4,5]):\n",
    "            break\n",
    "        elif a[pos[0]][i] == 'Q' or a[pos[0]][i]== 'R':\n",
    "            check = True\n",
    "            break\n",
    "    for i in list(reversed(range(pos[0]))):\n",
    "        if a[i][pos[1]] in blacks or a[i][pos[1]] in list(whites[j] for j in [1,3,4,5]):\n",
    "            break\n",
    "        elif a[i][pos[1]] == 'Q' or a[i][pos[1]]== 'R':\n",
    "            check = True\n",
    "            break\n",
    "    for i in list(range(pos[0]+1,8)):\n",
    "        if a[i][pos[1]] in blacks or a[i][pos[1]] in list(whites[j] for j in [1,3,4,5]):\n",
    "            break\n",
    "        elif a[i][pos[1]] == 'Q' or a[i][pos[1]]== 'R':\n",
    "            check = True\n",
    "            break\n",
    "    r = 8 - np.maximum(abs(pos[0]), abs(pos[1]))\n",
    "    r1 = np.minimum(abs(pos[0]), abs(pos[1]))\n",
    "    r2 = np.minimum(r,r1)\n",
    "    for i in list(range(1,r)):\n",
    "        if a[pos[0]+i][pos[1]+i] in blacks or a[pos[0]+i][pos[1]+i] in list(whites[j] for j in [1,2,4,5]):\n",
    "            break\n",
    "        elif a[pos[0]+i][pos[1]+i] == 'B' or a[pos[0]+i][pos[1]+i] == 'Q':\n",
    "            check = True\n",
    "            break\n",
    "    for i in list(range(1,r2)):\n",
    "        if a[pos[0]-i][pos[1]+i] in blacks or a[pos[0]-i][pos[1]+i] in list(whites[j] for j in [1,2,4,5]):\n",
    "            break\n",
    "        elif a[pos[0]-i][pos[1]+i] == 'B' or a[pos[0]-i][pos[1]+i] == 'Q':\n",
    "            check = True\n",
    "            break\n",
    "    for i in list(range(1,r2)):\n",
    "        if a[pos[0]-i][pos[1]-i] in blacks or a[pos[0]-i][pos[1]-i] in list(whites[j] for j in [1,2,4,5]):\n",
    "            break\n",
    "        elif a[pos[0]-i][pos[1]-i] == 'B' or a[pos[0]-i][pos[1]-i] == 'Q':\n",
    "            check = True\n",
    "            break\n",
    "    for i in list(range(1,r)):\n",
    "        if a[pos[0]+i][pos[1]-i] in blacks or a[pos[0]+i][pos[1]-i] in list(whites[j] for j in [1,2,4,5]):\n",
    "            break\n",
    "        elif a[pos[0]+i][pos[1]-i] == 'B' or a[pos[0]+i][pos[1]-i] == 'Q':\n",
    "            check = True\n",
    "            break\n",
    "    if pos[0]+2 < 8 and pos[1]-1 > 0 and a[pos[0]+2][pos[1]-1] == 'N':\n",
    "        check = True\n",
    "    if pos[0]+2 < 8 and pos[1]+1 < 8 and a[pos[0]+2][pos[1]+1] == 'N':\n",
    "        check = True\n",
    "    if pos[0]-2 > 0 and pos[1]-1 > 0 and a[pos[0]-2][pos[1]-1] == 'N':\n",
    "        check = True\n",
    "    if pos[0]-2 > 0 and pos[1]+1 < 8 and a[pos[0]-2][pos[1]+1] == 'N':\n",
    "        check = True\n",
    "    if pos[0]+1 < 8 and pos[1]-2 > 0 and a[pos[0]+1][pos[1]-2] == 'N':\n",
    "        check = True\n",
    "    if pos[0]+1 < 8 and pos[1]+2 < 8 and a[pos[0]+1][pos[1]+2] == 'N':\n",
    "        check = True\n",
    "    if pos[0]-1 > 0 and pos[1]-2 > 0 and a[pos[0]-1][pos[1]-2] == 'N':\n",
    "        check = True\n",
    "    if pos[0]-1 > 0 and pos[1]+2 < 8 and a[pos[0]-1][pos[1]+2] == 'N':\n",
    "        check = True\n",
    "    if pos[0]-1 > 0 and pos[1]-1 > 0 and a[pos[0]-1][pos[1]-1] == 'P':\n",
    "        check = True\n",
    "    if pos[0]-1 > 0 and pos[1]+1 < 8 and a[pos[0]-1][pos[1]+1] == 'P':\n",
    "        check = True\n",
    "    return check"
   ]
  },
  {
   "cell_type": "code",
   "execution_count": 223,
   "id": "9c702677",
   "metadata": {},
   "outputs": [],
   "source": [
    "def bothcheck(pos):\n",
    "    both = bool()\n",
    "    if checkcheckB(pos) == True and checkcheckW(pos) == True:\n",
    "        both = True\n",
    "    return both"
   ]
  },
  {
   "cell_type": "code",
   "execution_count": 226,
   "id": "9d6e94fc",
   "metadata": {},
   "outputs": [],
   "source": [
    "pos1 = '8/2k5/r7/3p4/5B2/8/K7/8 w'\n",
    "pos2 = '8/2k5/8/3p4/4rB2/8/K7/8 w'"
   ]
  },
  {
   "cell_type": "code",
   "execution_count": 228,
   "id": "c31c0e30",
   "metadata": {},
   "outputs": [
    {
     "name": "stdout",
     "output_type": "stream",
     "text": [
      "True False\n"
     ]
    }
   ],
   "source": [
    "print(bothcheck(pos1), bothcheck(pos2))"
   ]
  },
  {
   "cell_type": "code",
   "execution_count": 216,
   "id": "594e541f",
   "metadata": {},
   "outputs": [],
   "source": [
    "board1 = chess.Board(pos1)\n",
    "board2 = chess.Board(pos2)"
   ]
  },
  {
   "cell_type": "code",
   "execution_count": 217,
   "id": "55094d3c",
   "metadata": {},
   "outputs": [
    {
     "name": "stdout",
     "output_type": "stream",
     "text": [
      ". . . . . . . .\n",
      ". . k . . . . .\n",
      "r . . . . . . .\n",
      ". . . p . . . .\n",
      ". . . . . B . .\n",
      ". . . . . . . .\n",
      "K . . . . . . .\n",
      ". . . . . . . .\n"
     ]
    }
   ],
   "source": [
    "print(board1)"
   ]
  },
  {
   "cell_type": "code",
   "execution_count": 218,
   "id": "e1625c97",
   "metadata": {},
   "outputs": [
    {
     "name": "stdout",
     "output_type": "stream",
     "text": [
      ". . . . . . . .\n",
      ". . k . . . . .\n",
      ". . . . . . . .\n",
      ". . . p . . . .\n",
      ". . . . r B . .\n",
      ". . . . . . . .\n",
      "K . . . . . . .\n",
      ". . . . . . . .\n"
     ]
    }
   ],
   "source": [
    "print(board2)"
   ]
  }
 ],
 "metadata": {
  "kernelspec": {
   "display_name": "Python 3 (ipykernel)",
   "language": "python",
   "name": "python3"
  },
  "language_info": {
   "codemirror_mode": {
    "name": "ipython",
    "version": 3
   },
   "file_extension": ".py",
   "mimetype": "text/x-python",
   "name": "python",
   "nbconvert_exporter": "python",
   "pygments_lexer": "ipython3",
   "version": "3.9.12"
  }
 },
 "nbformat": 4,
 "nbformat_minor": 5
}
