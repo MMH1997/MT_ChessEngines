{
 "cells": [
  {
   "cell_type": "markdown",
   "id": "1c79e982",
   "metadata": {},
   "source": [
    "### Import packages "
   ]
  },
  {
   "cell_type": "code",
   "execution_count": 26,
   "id": "30fb8730",
   "metadata": {},
   "outputs": [
    {
     "name": "stdout",
     "output_type": "stream",
     "text": [
      "Defaulting to user installation because normal site-packages is not writeable\n",
      "Requirement already satisfied: chess in c:\\users\\mmh19\\appdata\\roaming\\python\\python39\\site-packages (1.9.3)\n"
     ]
    }
   ],
   "source": [
    "!pip install chess"
   ]
  },
  {
   "cell_type": "code",
   "execution_count": 27,
   "id": "e2a5e561",
   "metadata": {},
   "outputs": [],
   "source": [
    "from stockfish import Stockfish\n",
    "from stockfish import StockfishException\n",
    "import pandas as pd\n",
    "import numpy as np\n",
    "import re\n",
    "import chess\n",
    "import random"
   ]
  },
  {
   "cell_type": "markdown",
   "id": "9cfdf3a0",
   "metadata": {},
   "source": [
    "## Function"
   ]
  },
  {
   "cell_type": "code",
   "execution_count": 28,
   "id": "e108cef4",
   "metadata": {},
   "outputs": [],
   "source": [
    "def sim_mirror(pos):    \n",
    "    pos_transformed = []\n",
    "    colour = pos[-1:]\n",
    "    aux1 = pos[:-2]\n",
    "    aux2 = aux1.swapcase()\n",
    "    aux3 = aux2.split(\"/\")\n",
    "    aux4 = []\n",
    "    for j in reversed(aux3):\n",
    "        aux4.append(j)\n",
    "        aux5 = '/'.join(aux4)\n",
    "    pos_transformed.append(aux5)\n",
    "    if colour == 'b':\n",
    "        pos_transformed = pos_transformed[0] + ' w'\n",
    "    else:\n",
    "        pos_transformed = pos_transformed[0] + ' b'\n",
    "    return pos_transformed"
   ]
  },
  {
   "cell_type": "markdown",
   "id": "c01ea18c",
   "metadata": {},
   "source": [
    "## Example:"
   ]
  },
  {
   "cell_type": "code",
   "execution_count": 31,
   "id": "8a12766d",
   "metadata": {},
   "outputs": [
    {
     "data": {
      "text/plain": [
       "'1r6/1p2k3/4bp2/1P2p3/P3K3/2PP3P/3N1B2/8 b'"
      ]
     },
     "execution_count": 31,
     "metadata": {},
     "output_type": "execute_result"
    }
   ],
   "source": [
    "pos = \"8/3n1b2/2pp3p/p3k3/1p2P3/4BP2/1P2K3/1R6 w\"\n",
    "sim_mirror(pos)"
   ]
  },
  {
   "cell_type": "code",
   "execution_count": 30,
   "id": "d9159f46",
   "metadata": {
    "scrolled": true
   },
   "outputs": [],
   "source": [
    "board1 = chess.Board(pos)\n",
    "board2 = chess.Board(sim_mirror(pos))"
   ]
  },
  {
   "cell_type": "code",
   "execution_count": 24,
   "id": "a4a1c23a",
   "metadata": {},
   "outputs": [
    {
     "name": "stdout",
     "output_type": "stream",
     "text": [
      ". b . . . . . .\n",
      ". . . . . n . .\n",
      ". b . . . . . .\n",
      ". p B . . . . .\n",
      ". . . . . . . .\n",
      ". Q . . . . . k\n",
      ". . . . P . . .\n",
      ". . q . . K . .\n"
     ]
    }
   ],
   "source": [
    "print(board1)"
   ]
  },
  {
   "cell_type": "code",
   "execution_count": 25,
   "id": "955c9385",
   "metadata": {},
   "outputs": [
    {
     "name": "stdout",
     "output_type": "stream",
     "text": [
      ". . Q . . k . .\n",
      ". . . . p . . .\n",
      ". q . . . . . K\n",
      ". . . . . . . .\n",
      ". P b . . . . .\n",
      ". B . . . . . .\n",
      ". . . . . N . .\n",
      ". B . . . . . .\n"
     ]
    }
   ],
   "source": [
    "print(board2)"
   ]
  },
  {
   "cell_type": "code",
   "execution_count": null,
   "id": "71fa0cde",
   "metadata": {},
   "outputs": [],
   "source": []
  }
 ],
 "metadata": {
  "kernelspec": {
   "display_name": "Python 3 (ipykernel)",
   "language": "python",
   "name": "python3"
  },
  "language_info": {
   "codemirror_mode": {
    "name": "ipython",
    "version": 3
   },
   "file_extension": ".py",
   "mimetype": "text/x-python",
   "name": "python",
   "nbconvert_exporter": "python",
   "pygments_lexer": "ipython3",
   "version": "3.9.12"
  }
 },
 "nbformat": 4,
 "nbformat_minor": 5
}
