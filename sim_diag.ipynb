{
 "cells": [
  {
   "cell_type": "markdown",
   "id": "1c79e982",
   "metadata": {},
   "source": [
    "### Import packages "
   ]
  },
  {
   "cell_type": "code",
   "execution_count": 30,
   "id": "30fb8730",
   "metadata": {},
   "outputs": [
    {
     "name": "stdout",
     "output_type": "stream",
     "text": [
      "Defaulting to user installation because normal site-packages is not writeable\n",
      "Requirement already satisfied: chess in c:\\users\\mmh19\\appdata\\roaming\\python\\python39\\site-packages (1.9.3)\n"
     ]
    }
   ],
   "source": [
    "!pip install chess"
   ]
  },
  {
   "cell_type": "code",
   "execution_count": 1,
   "id": "e2a5e561",
   "metadata": {},
   "outputs": [],
   "source": [
    "from stockfish import Stockfish\n",
    "from stockfish import StockfishException\n",
    "import pandas as pd\n",
    "import numpy as np\n",
    "import re\n",
    "import chess\n",
    "import random"
   ]
  },
  {
   "cell_type": "markdown",
   "id": "9cfdf3a0",
   "metadata": {},
   "source": [
    "## Function"
   ]
  },
  {
   "cell_type": "code",
   "execution_count": 2,
   "id": "e108cef4",
   "metadata": {},
   "outputs": [],
   "source": [
    "def sim_diag(pos):\n",
    "    def Convert(string):\n",
    "        list1 = []\n",
    "        list1[:0] = string\n",
    "        return list1\n",
    "    pos_transformed = []\n",
    "    colour = pos[-1:]\n",
    "    aux=pos.replace('8','11111111').replace('7','1111111').replace('6','111111').replace('5','11111').replace('4','1111').replace('3','111').replace('2','11')         \n",
    "    aux2=aux.split('/')\n",
    "    for i in range(8):\n",
    "        aux2[i] = Convert(aux2[i])\n",
    "        aux3 = [] * 8\n",
    "\n",
    "    for j in reversed(range(8)):\n",
    "        aux4=[]\n",
    "        for i in reversed(range(8)):\n",
    "            aux4.append(aux2[i][j])\n",
    "        aux3.append(aux4)\n",
    "    for i in reversed(range(8)):\n",
    "        aux3[i] = \"\".join(aux3[i])\n",
    "    pos_transformed = \"/\".join(aux3)\n",
    "    if colour == 'b':\n",
    "        pos_transformed = pos_transformed + ' b'\n",
    "    else:\n",
    "        pos_transformed = pos_transformed + ' w'\n",
    "    pos_transformed = pos_transformed.replace('11111111','8').replace('1111111','7').replace('111111','6').replace('11111','5').replace('1111','4').replace('111','3').replace('11','2')         \n",
    "\n",
    "    return pos_transformed"
   ]
  },
  {
   "cell_type": "markdown",
   "id": "c01ea18c",
   "metadata": {},
   "source": [
    "## Example:"
   ]
  },
  {
   "cell_type": "code",
   "execution_count": 4,
   "id": "8a12766d",
   "metadata": {},
   "outputs": [
    {
     "data": {
      "text/plain": [
       "'2k5/8/K5n1/1P6/8/q3N3/2Q1pb1b/8 w'"
      ]
     },
     "execution_count": 4,
     "metadata": {},
     "output_type": "execute_result"
    }
   ],
   "source": [
    "pos = \"1b6/5n2/1b6/1pN5/8/1Q5k/4P3/2q2K2 w\"\n",
    "sim_diag(pos)"
   ]
  },
  {
   "cell_type": "code",
   "execution_count": 5,
   "id": "d9159f46",
   "metadata": {
    "scrolled": true
   },
   "outputs": [],
   "source": [
    "board1 = chess.Board(pos)\n",
    "board2 = chess.Board(sim_diag(pos))"
   ]
  },
  {
   "cell_type": "code",
   "execution_count": 6,
   "id": "a4a1c23a",
   "metadata": {},
   "outputs": [
    {
     "name": "stdout",
     "output_type": "stream",
     "text": [
      ". b . . . . . .\n",
      ". . . . . n . .\n",
      ". b . . . . . .\n",
      ". p N . . . . .\n",
      ". . . . . . . .\n",
      ". Q . . . . . k\n",
      ". . . . P . . .\n",
      ". . q . . K . .\n"
     ]
    }
   ],
   "source": [
    "print(board1)"
   ]
  },
  {
   "cell_type": "code",
   "execution_count": 7,
   "id": "955c9385",
   "metadata": {},
   "outputs": [
    {
     "name": "stdout",
     "output_type": "stream",
     "text": [
      ". . k . . . . .\n",
      ". . . . . . . .\n",
      "K . . . . . n .\n",
      ". P . . . . . .\n",
      ". . . . . . . .\n",
      "q . . . N . . .\n",
      ". . Q . p b . b\n",
      ". . . . . . . .\n"
     ]
    }
   ],
   "source": [
    "print(board2)"
   ]
  }
 ],
 "metadata": {
  "kernelspec": {
   "display_name": "Python 3 (ipykernel)",
   "language": "python",
   "name": "python3"
  },
  "language_info": {
   "codemirror_mode": {
    "name": "ipython",
    "version": 3
   },
   "file_extension": ".py",
   "mimetype": "text/x-python",
   "name": "python",
   "nbconvert_exporter": "python",
   "pygments_lexer": "ipython3",
   "version": "3.9.12"
  }
 },
 "nbformat": 4,
 "nbformat_minor": 5
}
