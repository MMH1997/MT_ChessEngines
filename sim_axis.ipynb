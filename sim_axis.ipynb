{
 "cells": [
  {
   "cell_type": "markdown",
   "id": "a7e47d0b",
   "metadata": {},
   "source": [
    "### Install and import packages "
   ]
  },
  {
   "cell_type": "code",
   "execution_count": 30,
   "id": "3f364829",
   "metadata": {},
   "outputs": [
    {
     "name": "stdout",
     "output_type": "stream",
     "text": [
      "Defaulting to user installation because normal site-packages is not writeable\n",
      "Requirement already satisfied: chess in c:\\users\\mmh19\\appdata\\roaming\\python\\python39\\site-packages (1.9.3)\n"
     ]
    }
   ],
   "source": [
    "!pip install chess"
   ]
  },
  {
   "cell_type": "code",
   "execution_count": 31,
   "id": "5912c051",
   "metadata": {},
   "outputs": [],
   "source": [
    "from stockfish import Stockfish\n",
    "from stockfish import StockfishException\n",
    "import pandas as pd\n",
    "import numpy as np\n",
    "import re\n",
    "import chess\n",
    "import random"
   ]
  },
  {
   "cell_type": "markdown",
   "id": "e9082229",
   "metadata": {},
   "source": [
    "## Function"
   ]
  },
  {
   "cell_type": "code",
   "execution_count": 58,
   "id": "18617f29",
   "metadata": {},
   "outputs": [],
   "source": [
    "def sim_axis(pos):\n",
    "    pos_transformed = []\n",
    "    col = pos[-1:]\n",
    "    aux1 = pos[:-2]\n",
    "    aux2 = aux1.split(\"/\")\n",
    "    aux3 = []\n",
    "    for j in range(8):\n",
    "        aux3.append(aux2[j][::-1])\n",
    "    aux4 = '/'.join(aux3)\n",
    "    pos_transformed.append(aux4)\n",
    "    if col == 'w':\n",
    "        pos_transformed = pos_transformed[0] + ' w'\n",
    "    if col == 'b':\n",
    "        pos_transformed = pos_transformed[0] + ' b'\n",
    "    return pos_transformed"
   ]
  },
  {
   "cell_type": "markdown",
   "id": "99d918a1",
   "metadata": {},
   "source": [
    "## Example:"
   ]
  },
  {
   "cell_type": "code",
   "execution_count": 61,
   "id": "4c515b44",
   "metadata": {},
   "outputs": [
    {
     "data": {
      "text/plain": [
       "'r3k3/p3r3/1n6/1P1b1P2/4p2P/6B1/1K2BP2/R1R5 b'"
      ]
     },
     "execution_count": 61,
     "metadata": {},
     "output_type": "execute_result"
    }
   ],
   "source": [
    "sim_axis('3k3r/3r3p/6n1/2P1b1P1/P2p4/1B6/2PB2K1/5R1R b')"
   ]
  },
  {
   "cell_type": "code",
   "execution_count": null,
   "id": "2b51ded7",
   "metadata": {},
   "outputs": [],
   "source": []
  },
  {
   "cell_type": "code",
   "execution_count": 38,
   "id": "696a29e2",
   "metadata": {},
   "outputs": [
    {
     "data": {
      "text/plain": [
       "'6b1/2n5/6b1/5Np1/8/k5Q1/3P4/2K2q2 w'"
      ]
     },
     "execution_count": 38,
     "metadata": {},
     "output_type": "execute_result"
    }
   ],
   "source": [
    "pos = \"1b6/5n2/1b6/1pN5/8/1Q5k/4P3/2q2K2 w\"\n",
    "sim_axis(pos)"
   ]
  },
  {
   "cell_type": "code",
   "execution_count": 51,
   "id": "e1104527",
   "metadata": {
    "scrolled": true
   },
   "outputs": [],
   "source": [
    "board1 = chess.Board(pos)\n",
    "board2 = chess.Board(sim_axis(pos))"
   ]
  },
  {
   "cell_type": "code",
   "execution_count": 52,
   "id": "95aab6e7",
   "metadata": {},
   "outputs": [
    {
     "name": "stdout",
     "output_type": "stream",
     "text": [
      ". b . . . . . .\n",
      ". . . . . n . .\n",
      ". b . . . . . .\n",
      ". p N . . . . .\n",
      ". . . . . . . .\n",
      ". Q . . . . . k\n",
      ". . . . P . . .\n",
      ". . q . . K . .\n"
     ]
    }
   ],
   "source": [
    "print(board1)"
   ]
  },
  {
   "cell_type": "code",
   "execution_count": 53,
   "id": "89b47012",
   "metadata": {},
   "outputs": [
    {
     "name": "stdout",
     "output_type": "stream",
     "text": [
      ". . . . . . b .\n",
      ". . n . . . . .\n",
      ". . . . . . b .\n",
      ". . . . . N p .\n",
      ". . . . . . . .\n",
      "k . . . . . Q .\n",
      ". . . P . . . .\n",
      ". . K . . q . .\n"
     ]
    }
   ],
   "source": [
    "print(board2)"
   ]
  }
 ],
 "metadata": {
  "kernelspec": {
   "display_name": "Python 3 (ipykernel)",
   "language": "python",
   "name": "python3"
  },
  "language_info": {
   "codemirror_mode": {
    "name": "ipython",
    "version": 3
   },
   "file_extension": ".py",
   "mimetype": "text/x-python",
   "name": "python",
   "nbconvert_exporter": "python",
   "pygments_lexer": "ipython3",
   "version": "3.9.12"
  }
 },
 "nbformat": 4,
 "nbformat_minor": 5
}
