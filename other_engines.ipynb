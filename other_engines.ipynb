{
 "cells": [
  {
   "cell_type": "markdown",
   "id": "8fb4ca7b",
   "metadata": {},
   "source": [
    "### Import libraries"
   ]
  },
  {
   "cell_type": "code",
   "execution_count": 1,
   "id": "79c0d062",
   "metadata": {},
   "outputs": [],
   "source": [
    "# !pip install python-chess\n",
    "# !pip install python-chess --upgrade \n",
    "from stockfish import Stockfish\n",
    "from stockfish import StockfishException\n",
    "import pandas as pd\n",
    "import numpy as np\n",
    "import re\n",
    "import chess\n",
    "import chess.engine\n",
    "import random\n",
    "import concurrent.futures\n",
    "# from functools import partial"
   ]
  },
  {
   "cell_type": "markdown",
   "id": "95534b98",
   "metadata": {},
   "source": [
    "### Import dataset"
   ]
  },
  {
   "cell_type": "code",
   "execution_count": 2,
   "id": "1761cb39",
   "metadata": {},
   "outputs": [],
   "source": [
    "with open('posiciones.txt') as f:\n",
    "    lines = f.readlines()\n",
    "pos = []\n",
    "for i in range(len(lines)):\n",
    "    pos.append(re.sub('\\n','', lines[i]))    \n",
    "    "
   ]
  },
  {
   "cell_type": "markdown",
   "id": "a621e929",
   "metadata": {},
   "source": [
    "We duplicate each position: In the first one, black makes the next move and in the second one, white makes it "
   ]
  },
  {
   "cell_type": "code",
   "execution_count": 3,
   "id": "75d46e78",
   "metadata": {},
   "outputs": [],
   "source": [
    "bl = []\n",
    "wh = []\n",
    "for i in range(len(pos)):\n",
    "    bl.append(pos[i] + ' b')\n",
    "    wh.append(pos[i] + ' w')\n",
    "dataset = bl + wh"
   ]
  },
  {
   "cell_type": "markdown",
   "id": "f7341fd5",
   "metadata": {},
   "source": [
    "### Additional functions"
   ]
  },
  {
   "cell_type": "code",
   "execution_count": 4,
   "id": "2ffcaba1",
   "metadata": {},
   "outputs": [],
   "source": [
    "def evaluationND(board, time_limit, rep):\n",
    "    try:\n",
    "        values = []\n",
    "        types = []\n",
    "        engine = chess.engine.SimpleEngine.popen_uci(\"Gull 3 x64.exe\") # adding the engine\n",
    "        for _ in range(rep):\n",
    "            result = engine.analyse(chess.Board(board), chess.engine.Limit(time=time_limit)) #adding the board and the time limit\n",
    "            score = str(result['score']) #transforming in string the result output\n",
    "            string = score[9:] #selecting the needed characters\n",
    "            pattern = re.compile(r'([^(]+)') #applying regular expressions to select the type\n",
    "            value = int(string[string.find('(')+1:string.find(')')]) #selecting the value\n",
    "\n",
    "            values.append(value if board[-1] == 'w' else -value) #adding the value depending on the next move colour\n",
    "            types.append(re.search(pattern, string).group(1)) #adding the type\n",
    "        engine.quit()\n",
    "        return{\"type\":types, \"value\":values}\n",
    "    except:\n",
    "        pass"
   ]
  },
  {
   "cell_type": "code",
   "execution_count": 5,
   "id": "b72b0e08",
   "metadata": {},
   "outputs": [],
   "source": [
    "def next_board(pos, mov):\n",
    "    def Convert(string):\n",
    "        list1 = []\n",
    "        list1[:0] = string\n",
    "        return list1\n",
    "    pos_transformed = []\n",
    "    colour = pos[-1]\n",
    "    aux=pos.replace('8','11111111').replace('7','1111111').replace('6','111111').replace('5','11111').replace('4','1111').replace('3','111').replace('2','11')        \n",
    "    aux2=aux.split('/')\n",
    "    aux2[7] = aux2[7][:8]\n",
    "\n",
    "    for i in range(8):\n",
    "        aux2[i] = Convert(aux2[i])\n",
    "    aux2[8-int(mov[3])][ord(mov[2]) - ord('a')] = aux2[8-int(mov[1])][ord(mov[0]) - ord('a')]\n",
    "    aux2[8-int(mov[1])][ord(mov[0]) - ord('a')] = '1'\n",
    "    aux3 = [] * 8\n",
    "    for i in range(8):\n",
    "        aux3.append([])\n",
    "        aux3[i] = \"\".join(aux2[i])\n",
    "    pos_transformed = \"/\".join(aux3)\n",
    "   \n",
    "    if colour == 'b':\n",
    "        pos_transformed = pos_transformed + ' w'\n",
    "    else:\n",
    "        pos_transformed = pos_transformed + ' b'\n",
    "    pos_transformed = pos_transformed.replace('11111111','8').replace('1111111','7').replace('111111','6').replace('11111','5').replace('1111','4').replace('111','3').replace('11','2')        \n",
    "\n",
    "    return pos_transformed"
   ]
  },
  {
   "cell_type": "code",
   "execution_count": 6,
   "id": "f4acb8fe",
   "metadata": {},
   "outputs": [],
   "source": [
    "def next_move(board, time_limit):\n",
    "    try:\n",
    "        engine = chess.engine.SimpleEngine.popen_uci(\"Houdini_15a_x64.exe\") # adding the engine\n",
    "        result = engine.analyse(chess.Board(board), chess.engine.Limit(time=time_limit), multipv=2)\n",
    "        return str(result[0].get('pv')[0])\n",
    "    except:\n",
    "        pass"
   ]
  },
  {
   "cell_type": "code",
   "execution_count": 7,
   "id": "ad312a26",
   "metadata": {},
   "outputs": [
    {
     "data": {
      "text/plain": [
       "'1b1B1Qr1/7p/6r1/2P5/4k3/1K6/4B3/8 w'"
      ]
     },
     "execution_count": 7,
     "metadata": {},
     "output_type": "execute_result"
    }
   ],
   "source": [
    "next_board(dataset[0], next_move(dataset[0],1))"
   ]
  },
  {
   "cell_type": "code",
   "execution_count": 8,
   "id": "aee6e7be",
   "metadata": {},
   "outputs": [],
   "source": [
    "def dif1(val1,val2):\n",
    "    if abs(val1)+abs(val2) == 0:\n",
    "        return 0\n",
    "    else:\n",
    "        return abs(val1-val2)/(abs(val1)+abs(val2))\n",
    "def dif2(val1,val2):\n",
    "    return float(abs(val1-val2))"
   ]
  },
  {
   "cell_type": "markdown",
   "id": "cf2361f2-6586-43a8-b21b-cea85ff6b121",
   "metadata": {
    "tags": []
   },
   "source": [
    "### Followup inputs generation"
   ]
  },
  {
   "cell_type": "code",
   "execution_count": 9,
   "id": "ce910e8c",
   "metadata": {},
   "outputs": [],
   "source": [
    "def sim_axis(board):\n",
    "    colour = board[-1]\n",
    "    pos = board[:-2]\n",
    "    rows = pos.split(\"/\")\n",
    "    new_rows = []\n",
    "    for j in range(8):\n",
    "        new_rows.append(rows[j][::-1])\n",
    "    return '/'.join(new_rows) + ' ' + colour"
   ]
  },
  {
   "cell_type": "code",
   "execution_count": 10,
   "id": "cc6e2c0c",
   "metadata": {},
   "outputs": [],
   "source": [
    "def sim_diag(pos):\n",
    "    def Convert(string):\n",
    "        list1 = []\n",
    "        list1[:0] = string\n",
    "        return list1\n",
    "    pos_transformed = []\n",
    "    colour = pos[-1:]\n",
    "    aux=pos.replace('8','11111111').replace('7','1111111').replace('6','111111').replace('5','11111').replace('4','1111').replace('3','111').replace('2','11')         \n",
    "    aux2=aux.split('/')\n",
    "    for i in range(8):\n",
    "        aux2[i] = Convert(aux2[i])\n",
    "        aux3 = [] * 8\n",
    "\n",
    "    for j in reversed(range(8)):\n",
    "        aux4=[]\n",
    "        for i in reversed(range(8)):\n",
    "            aux4.append(aux2[i][j])\n",
    "        aux3.append(aux4)\n",
    "    for i in reversed(range(8)):\n",
    "        aux3[i] = \"\".join(aux3[i])\n",
    "    pos_transformed = \"/\".join(aux3)\n",
    "    if colour == 'b':\n",
    "        pos_transformed = pos_transformed + ' b'\n",
    "    else:\n",
    "        pos_transformed = pos_transformed + ' w'\n",
    "    pos_transformed = pos_transformed.replace('11111111','8').replace('1111111','7').replace('111111','6').replace('11111','5').replace('1111','4').replace('111','3').replace('11','2')         \n",
    "\n",
    "    return pos_transformed\n",
    "\n",
    "def has_pawns(pos):\n",
    "    return pos.find('p') != -1 or pos.find('P') != -1"
   ]
  },
  {
   "cell_type": "code",
   "execution_count": 11,
   "id": "18701817",
   "metadata": {},
   "outputs": [],
   "source": [
    "def next_board(pos, mov):\n",
    "    def Convert(string):\n",
    "        list1 = []\n",
    "        list1[:0] = string\n",
    "        return list1\n",
    "    pos_transformed = []\n",
    "    colour = pos[-1]\n",
    "    aux=pos.replace('8','11111111').replace('7','1111111').replace('6','111111').replace('5','11111').replace('4','1111').replace('3','111').replace('2','11')        \n",
    "    aux2=aux.split('/')\n",
    "    aux2[7] = aux2[7][:8]\n",
    "\n",
    "    for i in range(8):\n",
    "        aux2[i] = Convert(aux2[i])\n",
    "    aux2[8-int(mov[3])][ord(mov[2]) - ord('a')] = aux2[8-int(mov[1])][ord(mov[0]) - ord('a')]\n",
    "    aux2[8-int(mov[1])][ord(mov[0]) - ord('a')] = '1'\n",
    "    aux3 = [] * 8\n",
    "    for i in range(8):\n",
    "        aux3.append([])\n",
    "        aux3[i] = \"\".join(aux2[i])\n",
    "    pos_transformed = \"/\".join(aux3)\n",
    "   \n",
    "    if colour == 'b':\n",
    "        pos_transformed = pos_transformed + ' w'\n",
    "    else:\n",
    "        pos_transformed = pos_transformed + ' b'\n",
    "    pos_transformed = pos_transformed.replace('11111111','8').replace('1111111','7').replace('111111','6').replace('11111','5').replace('1111','4').replace('111','3').replace('11','2')        \n",
    "\n",
    "    return pos_transformed"
   ]
  },
  {
   "cell_type": "code",
   "execution_count": 12,
   "id": "cd49b6e5",
   "metadata": {},
   "outputs": [],
   "source": [
    "def replace(pos):\n",
    "    aux = pos\n",
    "    if pos.count('B') > 0 & pos.count('R') > 0:\n",
    "        n = random.random()\n",
    "        if n > 0.5:\n",
    "            aux = pos.replace('R','Q',1)\n",
    "        else:\n",
    "            aux=pos.replace('B','Q',1)\n",
    "    elif pos.count('B') > 0 & pos.count('R') == 0:\n",
    "        aux = pos.replace('B','Q',1)\n",
    "    elif pos.count('R') > 0 & pos.count('B') == 0:\n",
    "        aux = pos.replace('R','Q',1)\n",
    "    return aux\n"
   ]
  },
  {
   "cell_type": "code",
   "execution_count": 13,
   "id": "f6d9c019",
   "metadata": {},
   "outputs": [],
   "source": [
    "def sim_mirror(board):    \n",
    "    colour = board[-1:]\n",
    "    pos = board[:-2]\n",
    "    rows = pos.swapcase().split(\"/\")\n",
    "    new_rows = []\n",
    "    for j in reversed(rows):\n",
    "        new_rows.append(j)\n",
    "    new_board = '/'.join(new_rows)\n",
    "    new_board += ' w' if colour == 'b' else ' b'\n",
    "    return new_board"
   ]
  },
  {
   "cell_type": "code",
   "execution_count": 14,
   "id": "f5538c97",
   "metadata": {
    "tags": []
   },
   "outputs": [],
   "source": [
    "def checkcheckW(pos):\n",
    "    def make_matrix(board): #type(board) == chess.Board()\n",
    "        pgn = board\n",
    "        foo = []  #Final board\n",
    "        pieces = pgn.split(\" \", 1)[0]\n",
    "        rows = pieces.split(\"/\")\n",
    "        for row in rows:\n",
    "            foo2 = []  #This is the row I make\n",
    "            for thing in row:\n",
    "                if thing.isdigit():\n",
    "                    for i in range(0, int(thing)):\n",
    "                        foo2.append('.')\n",
    "                else:\n",
    "                    foo2.append(thing)\n",
    "            foo.append(foo2)\n",
    "        return foo\n",
    "    whites = ['Q','K','R','B','N','P']\n",
    "    blacks = ['q', 'k', 'r', 'b', 'n', 'p']\n",
    "    a = make_matrix(pos)\n",
    "    check = bool()\n",
    "    pos = []\n",
    "    for i in range(8):\n",
    "        for j in range(8):\n",
    "            if a[i][j] == 'K':\n",
    "                pos.append(i)\n",
    "                pos.append(j)\n",
    "    for i in list(reversed(range(pos[1]))):\n",
    "        if a[pos[0]][i] in whites or a[pos[0]][i] in list(blacks[j] for j in [1,3,4,5]):\n",
    "            break\n",
    "        elif a[pos[0]][i] == 'q' or a[pos[0]][i]== 'r':\n",
    "            check = True\n",
    "            break\n",
    "    for i in list(range(pos[1]+1,8)):\n",
    "        if a[pos[0]][i] in whites or a[pos[0]][i] in list(blacks[j] for j in [1,3,4,5]):\n",
    "            break\n",
    "        elif a[pos[0]][i] == 'q' or a[pos[0]][i]== 'r':\n",
    "            check = True\n",
    "            break\n",
    "    for i in list(reversed(range(pos[0]))):\n",
    "        if a[i][pos[1]] in whites or a[i][pos[1]] in list(blacks[j] for j in [1,3,4,5]):\n",
    "            break\n",
    "        elif a[i][pos[1]] == 'q' or a[i][pos[1]]== 'r':\n",
    "            check = True\n",
    "            break\n",
    "    for i in list(range(pos[0]+1,8)):\n",
    "        if a[i][pos[1]] in whites or a[i][pos[1]] in list(blacks[j] for j in [1,3,4,5]):\n",
    "            break\n",
    "        elif a[i][pos[1]] == 'q' or a[i][pos[1]]== 'r':\n",
    "            check = True\n",
    "            break\n",
    "    top_right = np.minimum(abs(pos[0]) + 1, abs(8 - pos[1]))\n",
    "    top_left = np.minimum(abs(pos[0]) + 1, abs(pos[1]) + 1)\n",
    "    bot_right = np.minimum(abs(8 - pos[0]), abs(8 - pos[1]))\n",
    "    bot_left = np.minimum(abs(8 - pos[0]), abs(pos[1]) + 1)\n",
    "    for i in list(range(1,bot_right)):\n",
    "        if a[pos[0]+i][pos[1]+i] in whites or a[pos[0]+i][pos[1]+i] in list(blacks[j] for j in [1,2,4,5]):\n",
    "            break\n",
    "        elif a[pos[0]+i][pos[1]+i] == 'b' or a[pos[0]+i][pos[1]+i] == 'q':\n",
    "            check = True\n",
    "            break\n",
    "    for i in list(range(1,top_right)):\n",
    "        if a[pos[0]-i][pos[1]+i] in whites or a[pos[0]-i][pos[1]+i] in list(blacks[j] for j in [1,2,4,5]):\n",
    "            break\n",
    "        elif a[pos[0]-i][pos[1]+i] == 'b' or a[pos[0]-i][pos[1]+i] == 'q':\n",
    "            check = True\n",
    "            break\n",
    "    for i in list(range(1,top_left)):\n",
    "        if a[pos[0]-i][pos[1]-i] in whites or a[pos[0]-i][pos[1]-i] in list(blacks[j] for j in [1,2,4,5]):\n",
    "            break\n",
    "        elif a[pos[0]-i][pos[1]-i] == 'b' or a[pos[0]-i][pos[1]-i] == 'q':\n",
    "            check = True\n",
    "            break\n",
    "    for i in list(range(1,bot_left)):\n",
    "        if a[pos[0]+i][pos[1]-i] in whites or a[pos[0]+i][pos[1]-i] in list(blacks[j] for j in [1,2,4,5]):\n",
    "            break\n",
    "        elif a[pos[0]+i][pos[1]-i] == 'b' or a[pos[0]+i][pos[1]-i] == 'q':\n",
    "            check = True\n",
    "            break\n",
    "    if pos[0]+2 < 8 and pos[1]-1 >= 0 and a[pos[0]+2][pos[1]-1] == 'n':\n",
    "        check = True\n",
    "    if pos[0]+2 < 8 and pos[1]+1 < 8 and a[pos[0]+2][pos[1]+1] == 'n':\n",
    "        check = True\n",
    "    if pos[0]-2 >= 0 and pos[1]-1 >= 0 and a[pos[0]-2][pos[1]-1] == 'n':\n",
    "        check = True\n",
    "    if pos[0]-2 >= 0 and pos[1]+1 < 8 and a[pos[0]-2][pos[1]+1] == 'n':\n",
    "        check = True\n",
    "    if pos[0]+1 < 8 and pos[1]-2 >= 0 and a[pos[0]+1][pos[1]-2] == 'n':\n",
    "        check = True\n",
    "    if pos[0]+1 < 8 and pos[1]+2 < 8 and a[pos[0]+1][pos[1]+2] == 'n':\n",
    "        check = True\n",
    "    if pos[0]-1 >= 0 and pos[1]-2 >= 0 and a[pos[0]-1][pos[1]-2] == 'n':\n",
    "        check = True\n",
    "    if pos[0]-1 >= 0 and pos[1]+2 < 8 and a[pos[0]-1][pos[1]+2] == 'n':\n",
    "        check = True\n",
    "    if pos[0]-1 >= 0 and pos[1]-1 >= 0 and a[pos[0]-1][pos[1]-1] == 'p':\n",
    "        check = True\n",
    "    if pos[0]-1 >= 0 and pos[1]+1 < 8 and a[pos[0]-1][pos[1]+1] == 'p':\n",
    "        check = True\n",
    "    return check"
   ]
  },
  {
   "cell_type": "code",
   "execution_count": 15,
   "id": "dbd2dcaf",
   "metadata": {},
   "outputs": [],
   "source": [
    "def checkcheckB(pos):\n",
    "    def make_matrix(board): #type(board) == chess.Board()\n",
    "        pgn = board\n",
    "        foo = []  #Final board\n",
    "        pieces = pgn.split(\" \", 1)[0]\n",
    "        rows = pieces.split(\"/\")\n",
    "        for row in rows:\n",
    "            foo2 = []  #This is the row I make\n",
    "            for thing in row:\n",
    "                if thing.isdigit():\n",
    "                    for i in range(0, int(thing)):\n",
    "                        foo2.append('.')\n",
    "                else:\n",
    "                    foo2.append(thing)\n",
    "            foo.append(foo2)\n",
    "        return foo\n",
    "    whites = ['Q','K','R','B','N','P']\n",
    "    blacks = ['q', 'k', 'r', 'b', 'n', 'p']\n",
    "    a = make_matrix(pos)\n",
    "    check = bool()\n",
    "    pos = []\n",
    "    for i in range(8):\n",
    "        for j in range(8):\n",
    "            if a[i][j] == 'k':\n",
    "                pos.append(i)\n",
    "                pos.append(j)\n",
    "    for i in list(reversed(range(pos[1]))):\n",
    "        if a[pos[0]][i] in blacks or a[pos[0]][i] in list(whites[j] for j in [1,3,4,5]):\n",
    "            break\n",
    "        elif a[pos[0]][i] == 'Q' or a[pos[0]][i]== 'R':\n",
    "            check = True\n",
    "            break\n",
    "    for i in list(range(pos[1]+1,8)):\n",
    "        if a[pos[0]][i] in blacks or a[pos[0]][i] in list(whites[j] for j in [1,3,4,5]):\n",
    "            break\n",
    "        elif a[pos[0]][i] == 'Q' or a[pos[0]][i]== 'R':\n",
    "            check = True\n",
    "            break\n",
    "    for i in list(reversed(range(pos[0]))):\n",
    "        if a[i][pos[1]] in blacks or a[i][pos[1]] in list(whites[j] for j in [1,3,4,5]):\n",
    "            break\n",
    "        elif a[i][pos[1]] == 'Q' or a[i][pos[1]]== 'R':\n",
    "            check = True\n",
    "            break\n",
    "    for i in list(range(pos[0]+1,8)):\n",
    "        if a[i][pos[1]] in blacks or a[i][pos[1]] in list(whites[j] for j in [1,3,4,5]):\n",
    "            break\n",
    "        elif a[i][pos[1]] == 'Q' or a[i][pos[1]]== 'R':\n",
    "            check = True\n",
    "            break\n",
    "    top_right = np.minimum(abs(pos[0]) + 1, abs(8 - pos[1]))\n",
    "    top_left = np.minimum(abs(pos[0]) + 1, abs(pos[1]) + 1)\n",
    "    bot_right = np.minimum(abs(8 - pos[0]), abs(8 - pos[1]))\n",
    "    bot_left = np.minimum(abs(8 - pos[0]), abs(pos[1]) + 1)\n",
    "    for i in list(range(1,bot_right)):\n",
    "        if a[pos[0]+i][pos[1]+i] in blacks or a[pos[0]+i][pos[1]+i] in list(whites[j] for j in [1,2,4,5]):\n",
    "            break\n",
    "        elif a[pos[0]+i][pos[1]+i] == 'B' or a[pos[0]+i][pos[1]+i] == 'Q':\n",
    "            check = True\n",
    "            break\n",
    "    for i in list(range(1,top_right)):\n",
    "        if a[pos[0]-i][pos[1]+i] in blacks or a[pos[0]-i][pos[1]+i] in list(whites[j] for j in [1,2,4,5]):\n",
    "            break\n",
    "        elif a[pos[0]-i][pos[1]+i] == 'B' or a[pos[0]-i][pos[1]+i] == 'Q':\n",
    "            check = True\n",
    "            break\n",
    "    for i in list(range(1,top_left)):\n",
    "        if a[pos[0]-i][pos[1]-i] in blacks or a[pos[0]-i][pos[1]-i] in list(whites[j] for j in [1,2,4,5]):\n",
    "            break\n",
    "        elif a[pos[0]-i][pos[1]-i] == 'B' or a[pos[0]-i][pos[1]-i] == 'Q':\n",
    "            check = True\n",
    "            break\n",
    "    for i in list(range(1,bot_left)):\n",
    "        if a[pos[0]+i][pos[1]-i] in blacks or a[pos[0]+i][pos[1]-i] in list(whites[j] for j in [1,2,4,5]):\n",
    "            break\n",
    "        elif a[pos[0]+i][pos[1]-i] == 'B' or a[pos[0]+i][pos[1]-i] == 'Q':\n",
    "            check = True\n",
    "            break\n",
    "    if pos[0]+2 < 8 and pos[1]-1 >= 0 and a[pos[0]+2][pos[1]-1] == 'N':\n",
    "        check = True\n",
    "    if pos[0]+2 < 8 and pos[1]+1 < 8 and a[pos[0]+2][pos[1]+1] == 'N':\n",
    "        check = True\n",
    "    if pos[0]-2 >= 0 and pos[1]-1 >= 0 and a[pos[0]-2][pos[1]-1] == 'N':\n",
    "        check = True\n",
    "    if pos[0]-2 >= 0 and pos[1]+1 < 8 and a[pos[0]-2][pos[1]+1] == 'N':\n",
    "        check = True\n",
    "    if pos[0]+1 < 8 and pos[1]-2 >= 0 and a[pos[0]+1][pos[1]-2] == 'N':\n",
    "        check = True\n",
    "    if pos[0]+1 < 8 and pos[1]+2 < 8 and a[pos[0]+1][pos[1]+2] == 'N':\n",
    "        check = True\n",
    "    if pos[0]-1 >= 0 and pos[1]-2 >= 0 and a[pos[0]-1][pos[1]-2] == 'N':\n",
    "        check = True\n",
    "    if pos[0]-1 >= 0 and pos[1]+2 < 8 and a[pos[0]-1][pos[1]+2] == 'N':\n",
    "        check = True\n",
    "    if pos[0]-1 >= 0 and pos[1]-1 >= 0 and a[pos[0]-1][pos[1]-1] == 'P':\n",
    "        check = True\n",
    "    if pos[0]-1 >= 0 and pos[1]+1 < 8 and a[pos[0]-1][pos[1]+1] == 'P':\n",
    "        check = True\n",
    "    return check"
   ]
  },
  {
   "cell_type": "code",
   "execution_count": 16,
   "id": "8950520a",
   "metadata": {},
   "outputs": [],
   "source": [
    "def bothcheck(pos):\n",
    "    return checkcheckB(pos) and checkcheckW(pos)\n",
    "\n",
    "def checkMover(pos):\n",
    "    return checkcheckB(pos) and pos[-1] == 'w' or checkcheckW(pos) and pos[-1] == 'b'"
   ]
  },
  {
   "cell_type": "markdown",
   "id": "5b6bed1a-913d-49f0-89e5-9d832522948c",
   "metadata": {
    "tags": []
   },
   "source": [
    "### Metamorphic Relations"
   ]
  },
  {
   "cell_type": "code",
   "execution_count": 17,
   "id": "a5f1b7d2",
   "metadata": {},
   "outputs": [],
   "source": [
    "def MR_equi(o1,o2,delta,epsilon):\n",
    "    final = bool()\n",
    "    if not( all(elemento == o1.get('type')[0] for elemento in o1.get('type')) or all(elemento == o2.get('type')[0] for elemento in o2.get('type'))):\n",
    "        final = False\n",
    "    elif o1.get('type')!= o2.get('type'):\n",
    "        final = False\n",
    "    elif o1.get('type') == o2.get('type') and o1.get('type')[0] == 'Mate' and o1.get('value') != o2.get('value'):\n",
    "        final = False\n",
    "    elif o1.get('type') == o2.get('type') and o1.get('type')[0] == 'Cp' and o1.get('type')[0] == 'Cp' and dif1(np.mean(o1.get('value')),np.mean(o2.get('value'))) > delta and dif2(np.mean(o1.get('value')),np.mean(o2.get('value'))) >= epsilon:\n",
    "        final = False\n",
    "    else:\n",
    "        final = True\n",
    "    return final"
   ]
  },
  {
   "cell_type": "code",
   "execution_count": 18,
   "id": "d48fd56e",
   "metadata": {},
   "outputs": [],
   "source": [
    "def MR_better(o1,o2,delta,epsilon):\n",
    "    final = bool()\n",
    "    if not(all(elemento == o1.get('type')[0] for elemento in o1.get('type'))) or not(all(elemento == o2.get('type')[0] for elemento in o2.get('type'))):\n",
    "        final = False\n",
    "    if o1.get('type') != o2.get('type') and o2.get('type')[0] != 'Mate':\n",
    "        final = False\n",
    "    elif o1.get('type') == o2.get('type') == 'Mate' and np.mean(o1.get('value')) < np.mean(o2.get('value')) and np.mean(o1.get('value')) > 0:\n",
    "        final = False\n",
    "    elif o1.get('type') == o2.get('type') == 'Mate' and np.mean(o1.get('value')) > np.mean(o2.get('value')) and np.mean(o1.get('value')) < 0:\n",
    "        final = False\n",
    "    elif o1.get('type') == o2.get('type') and o2.get('type')[0] == 'Cp' and np.mean(o1.get('value')) > np.mean(o2.get('value')) and dif1(np.mean(o1.get('value')),np.mean(o2.get('value'))) > delta and dif2(np.mean(o1.get('value')),np.mean(o2.get('value'))) >= epsilon:\n",
    "        final = False\n",
    "    else:\n",
    "        final = True\n",
    "    return final"
   ]
  },
  {
   "cell_type": "code",
   "execution_count": 19,
   "id": "8011b9c1",
   "metadata": {},
   "outputs": [],
   "source": [
    "def MR_mirror(o1,o2,delta,epsilon):\n",
    "    final = bool()\n",
    "    if not( all(elemento == o1.get('type')[0] for elemento in o1.get('type')) or all(elemento == o2.get('type')[0] for elemento in o2.get('type'))):\n",
    "        final = False\n",
    "    elif o1.get('type')!= o2.get('type'):\n",
    "        final = False\n",
    "    elif o1.get('type') == o2.get('type') and o1.get('type')[0] == 'Mate' and np.mean(o1.get('value')) != (-1 * np.mean(o2.get('value'))):\n",
    "        final = False\n",
    "    elif o1.get('type') == o2.get('type') and o1.get('type')[0] == 'Cp' and o1.get('type')[0] == 'Cp' and dif1(np.mean(o1.get('value')),(-1 * np.mean(o2.get('value')))) > delta and dif2(np.mean(o1.get('value')),(-1*np.mean(o2.get('value')))) >= epsilon:\n",
    "        final = False\n",
    "    else:\n",
    "        final = True\n",
    "    return final"
   ]
  },
  {
   "cell_type": "markdown",
   "id": "cbe12185",
   "metadata": {},
   "source": [
    "### Main function MRequi, sim_axis"
   ]
  },
  {
   "cell_type": "code",
   "execution_count": 20,
   "id": "c8b23e9d",
   "metadata": {
    "scrolled": true
   },
   "outputs": [],
   "source": [
    "def mainEqui(dataset, time, rep, delta, epsilon):\n",
    "    pos1 = []\n",
    "    pos2 = []\n",
    "    results1 = []\n",
    "    results2 = []\n",
    "    MR = []\n",
    "    index = []\n",
    "    for i in range(len(dataset)):\n",
    "        axis = sim_axis(dataset[i])\n",
    "        if bothcheck(dataset[i]) == False and bothcheck(axis) == False and checkMover(dataset[i]) == False:\n",
    "            if i%5==0: \n",
    "                print(i)\n",
    "            try:\n",
    "                ev_source = evaluationND(dataset[i],time,rep)\n",
    "                ev_followup = evaluationND(axis, time,rep)\n",
    "                MR.append(MR_equi(ev_source, ev_followup, delta, epsilon)) ## adding MR to dataframe\n",
    "                pos1.append(dataset[i]) ## adding original position to dataframe\n",
    "                pos2.append(axis) ## adding transformed position to dataframe\n",
    "                results1.append(ev_source) ## adding evaluation of original position to dataframe\n",
    "                results2.append(ev_followup) ## adding evaluation of transformed position to dataframe\n",
    "                index.append(i) ## adding index to dataframe\n",
    "            except:\n",
    "                    pass\n",
    "    d = {'index' : index, 'pos1' : pos1, 'evaluation pos1' : results1, 'pos2' : pos2, 'evaluation pos2' : results2,\n",
    "        'MR' : MR}\n",
    "    df = pd.DataFrame(data=d) ## creating dataframe\n",
    "    return df"
   ]
  },
  {
   "cell_type": "markdown",
   "id": "46d87617",
   "metadata": {},
   "source": [
    "An example with the first 40 positions of our dataset. "
   ]
  },
  {
   "cell_type": "code",
   "execution_count": null,
   "id": "0870e85b",
   "metadata": {},
   "outputs": [],
   "source": [
    "a = mainEqui(dataset[0:10], 3, 1, 0.25, 25)\n",
    "print(a)"
   ]
  },
  {
   "cell_type": "markdown",
   "id": "108aa15f",
   "metadata": {},
   "source": [
    "### Main function MRmirror"
   ]
  },
  {
   "cell_type": "code",
   "execution_count": 21,
   "id": "905e1bd7",
   "metadata": {},
   "outputs": [],
   "source": [
    "def mainMirr(dataset, time, rep, delta, epsilon):\n",
    "    pos1 = []\n",
    "    pos2 = []\n",
    "    results1 = []\n",
    "    results2 = []\n",
    "    MR = []\n",
    "    index = []\n",
    "    for i in range(len(dataset)):\n",
    "        mirror = sim_mirror(dataset[i])\n",
    "        if bothcheck(dataset[i]) == False and bothcheck(mirror) == False and checkMover(dataset[i]) == False:\n",
    "            if i%5==0: \n",
    "                print(i)\n",
    "            try:\n",
    "                ev_source = evaluationND(dataset[i],time, rep)\n",
    "                ev_followup = evaluationND(mirror, time, rep)\n",
    "                MR.append(MR_mirror(ev_source, ev_followup, delta, epsilon)) ## adding MR to dataframe\n",
    "                pos1.append(dataset[i]) ## adding original position to dataframe\n",
    "                pos2.append(mirror) ## adding transformed position to dataframe\n",
    "                results1.append(ev_source) ## adding evaluation of original position to dataframe\n",
    "                results2.append(ev_followup) ## adding evaluation of transformed position to dataframe\n",
    "                index.append(i) ## adding index to dataframe\n",
    "            except:\n",
    "                    pass\n",
    "    d = {'index' : index, 'pos1' : pos1, 'evaluation pos1' : results1, 'pos2' : pos2, 'evaluation pos2' : results2,\n",
    "        'MR' : MR}\n",
    "    df = pd.DataFrame(data=d) ## creating dataframe\n",
    "    return df"
   ]
  },
  {
   "cell_type": "markdown",
   "id": "322aa359",
   "metadata": {},
   "source": [
    "An example with the first 10 positions of our dataset. "
   ]
  },
  {
   "cell_type": "code",
   "execution_count": 22,
   "id": "4db77356",
   "metadata": {
    "scrolled": true
   },
   "outputs": [
    {
     "name": "stdout",
     "output_type": "stream",
     "text": [
      "0\n",
      "5\n",
      "   index                                            pos1  \\\n",
      "0      0            1b1B1Qr1/7p/6r1/2P5/4Rk2/1K6/4B3/8 b   \n",
      "1      1                1B1B2K1/1B6/5N2/6k1/8/8/8/4nq2 b   \n",
      "2      2  1b1b2K1/1r6/2P4p/1b1p4/4N1k1/3B2Q1/2q5/2N2q2 b   \n",
      "3      5       1b1b4/1N5r/1P1p3B/8/3KP3/3P2k1/3PB3/1N6 b   \n",
      "4      7            1b1B4/1P6/2B5/3r2kN/2r4P/8/5K2/3B4 b   \n",
      "5      8               1B1b4/1Q2b3/8/6rn/3NK3/7k/2r5/8 b   \n",
      "6      9                1b1B4/2b3PK/7P/8/1BP4k/4P3/8/8 b   \n",
      "\n",
      "                       evaluation pos1  \\\n",
      "0    {'type': ['Cp'], 'value': [1053]}   \n",
      "1    {'type': ['Cp'], 'value': [-101]}   \n",
      "2  {'type': ['Cp'], 'value': [-32749]}   \n",
      "3     {'type': ['Cp'], 'value': [-53]}   \n",
      "4     {'type': ['Cp'], 'value': [909]}   \n",
      "5       {'type': ['Cp'], 'value': [9]}   \n",
      "6    {'type': ['Cp'], 'value': [2081]}   \n",
      "\n",
      "                                             pos2  \\\n",
      "0            8/4b3/1k6/4rK2/2p5/6R1/7P/1B1b1qR1 w   \n",
      "1                4NQ2/8/8/8/6K1/5n2/1b6/1b1b2k1 w   \n",
      "2  2n2Q2/2Q5/3b2q1/4n1K1/1B1P4/2p4P/1R6/1B1B2k1 w   \n",
      "3       1n6/3pb3/3p2K1/3kp3/8/1p1P3b/1n5R/1B1B4 w   \n",
      "4            3b4/5k2/8/2R4p/3R2Kn/2b5/1p6/1B1b4 w   \n",
      "5               8/2R5/7K/3nk3/6RN/8/1q2B3/1b1B4 w   \n",
      "6                8/8/4p3/1bp4K/8/7p/2B3pk/1B1b4 w   \n",
      "\n",
      "                       evaluation pos2     MR  \n",
      "0   {'type': ['Cp'], 'value': [-1036]}   True  \n",
      "1      {'type': ['Cp'], 'value': [14]}  False  \n",
      "2   {'type': ['Cp'], 'value': [32751]}   True  \n",
      "3       {'type': ['Cp'], 'value': [0]}  False  \n",
      "4    {'type': ['Cp'], 'value': [-221]}  False  \n",
      "5     {'type': ['Cp'], 'value': [357]}  False  \n",
      "6  {'type': ['Cp'], 'value': [-32734]}  False  \n"
     ]
    }
   ],
   "source": [
    "a = mainMirr(dataset[0:10], 3, 1, 0.25, 25)\n",
    "print(a)"
   ]
  },
  {
   "cell_type": "markdown",
   "id": "8f333500",
   "metadata": {},
   "source": [
    "### Main function MRequi, diag"
   ]
  },
  {
   "cell_type": "code",
   "execution_count": 24,
   "id": "47bf0b1c",
   "metadata": {},
   "outputs": [],
   "source": [
    "def mainDiag(dataset, time, rep, delta, epsilon):\n",
    "    pos1 = []\n",
    "    pos2 = []\n",
    "    results1 = []\n",
    "    results2 = []\n",
    "    MR = []\n",
    "    index = []\n",
    "    for i in range(len(dataset)):\n",
    "        diag = sim_diag(dataset[i])\n",
    "        if (not has_pawns(dataset[i])) and bothcheck(dataset[i]) == False and bothcheck(diag) == False and checkMover(dataset[i]) == False:\n",
    "            if i%5==0: \n",
    "                print(i)\n",
    "            try:\n",
    "                ev_source = evaluationND(dataset[i],time, rep)\n",
    "                ev_followup = evaluationND(diag, time, rep)\n",
    "                MR.append(MR_equi(ev_source, ev_followup, delta, epsilon)) ## adding MR to dataframe\n",
    "                pos1.append(dataset[i]) ## adding original position to dataframe\n",
    "                pos2.append(diag) ## adding transformed position to dataframe\n",
    "                results1.append(ev_source) ## adding evaluation of original position to dataframe\n",
    "                results2.append(ev_followup) ## adding evaluation of transformed position to dataframe\n",
    "                index.append(i) ## adding index to dataframe\n",
    "            except:\n",
    "                    pass\n",
    "    d = {'index' : index, 'pos1' : pos1, 'evaluation pos1' : results1, 'pos2' : pos2, 'evaluation pos2' : results2,\n",
    "        'MR' : MR}\n",
    "    df = pd.DataFrame(data=d) ## creating dataframe\n",
    "    return df"
   ]
  },
  {
   "cell_type": "markdown",
   "id": "6bc64360",
   "metadata": {},
   "source": [
    "An example with the first 10 positions of our dataset. "
   ]
  },
  {
   "cell_type": "code",
   "execution_count": 25,
   "id": "2de4f575",
   "metadata": {
    "scrolled": true
   },
   "outputs": [
    {
     "name": "stdout",
     "output_type": "stream",
     "text": [
      "   index                               pos1  \\\n",
      "0      1   1B1B2K1/1B6/5N2/6k1/8/8/8/4nq2 b   \n",
      "1      8  1B1b4/1Q2b3/8/6rn/3NK3/7k/2r5/8 b   \n",
      "\n",
      "                                     evaluation pos1  \\\n",
      "0  {'type': ['Cp', 'Cp', 'Cp', 'Cp', 'Cp', 'Cp', ...   \n",
      "1  {'type': ['Cp', 'Cp', 'Cp', 'Cp', 'Cp', 'Cp', ...   \n",
      "\n",
      "                                 pos2  \\\n",
      "0         8/4k2K/q4N2/n7/7B/8/6BB/8 b   \n",
      "1  2k1n3/4r3/8/3K2b1/3N3b/1r6/6QB/8 b   \n",
      "\n",
      "                                     evaluation pos2    MR  \n",
      "0  {'type': ['Cp', 'Cp', 'Cp', 'Cp', 'Cp', 'Cp', ...  True  \n",
      "1  {'type': ['Cp', 'Cp', 'Cp', 'Cp', 'Cp', 'Cp', ...  True  \n"
     ]
    }
   ],
   "source": [
    "a = mainDiag(dataset[0:10],3, 10, 0.25, 25)\n",
    "print(a)"
   ]
  },
  {
   "cell_type": "markdown",
   "id": "c9181684",
   "metadata": {},
   "source": [
    "### Main function MRbetter"
   ]
  },
  {
   "cell_type": "code",
   "execution_count": 27,
   "id": "9088028b",
   "metadata": {},
   "outputs": [],
   "source": [
    "def mainBet(dataset, time, rep, delta, epsilon):\n",
    "    pos1 = []\n",
    "    pos2 = []\n",
    "    results1 = []\n",
    "    results2 = []\n",
    "    MR = []\n",
    "    index = []\n",
    "    for i in range(len(dataset)):\n",
    "        replaced = replace(dataset[i])\n",
    "        if bothcheck(dataset[i]) == False and bothcheck(replaced) == False and checkMover(dataset[i]) == False:\n",
    "            if i%5==0: \n",
    "                print(i)\n",
    "            try:\n",
    "                ev_source = evaluationND(dataset[i],time, rep)\n",
    "                ev_followup = evaluationND(replaced, time, rep)\n",
    "                MR.append(MR_better(ev_source, ev_followup, delta, epsilon)) ## adding MR to dataframe\n",
    "                pos1.append(dataset[i]) ## adding original position to dataframe\n",
    "                pos2.append(replaced) ## adding transformed position to dataframe\n",
    "                results1.append(ev_source) ## adding evaluation of original position to dataframe\n",
    "                results2.append(ev_followup) ## adding evaluation of transformed position to dataframe\n",
    "                index.append(i) ## adding index to dataframe\n",
    "            except:\n",
    "                    pass\n",
    "    d = {'index' : index, 'pos1' : pos1, 'evaluation pos1' : results1, 'pos2' : pos2, 'evaluation pos2' : results2,\n",
    "        'MR' : MR}\n",
    "    df = pd.DataFrame(data=d) ## creating dataframe\n",
    "    return df"
   ]
  },
  {
   "cell_type": "markdown",
   "id": "acc2f87c",
   "metadata": {},
   "source": [
    "An example with the first 10 positions of our dataset. "
   ]
  },
  {
   "cell_type": "code",
   "execution_count": null,
   "id": "4abf005d",
   "metadata": {},
   "outputs": [],
   "source": [
    "a = mainBet(dataset[0:10],3, 1, 0.25, 25)\n",
    "print(a)"
   ]
  },
  {
   "cell_type": "markdown",
   "id": "6f78772c",
   "metadata": {},
   "source": [
    "### Main function MRfirst"
   ]
  },
  {
   "cell_type": "code",
   "execution_count": null,
   "id": "53f5bad7",
   "metadata": {},
   "outputs": [],
   "source": [
    "def MRfirst(dataset, time, rep, delta, epsilon):\n",
    "    pos1 = []\n",
    "    pos2 = []\n",
    "    results1 = []\n",
    "    results2 = []\n",
    "    MR = []\n",
    "    index = []\n",
    "    for i in range(len(dataset)):\n",
    "        try:\n",
    "        \n",
    "            \n",
    "            position = next_board(dataset[i], next_move(dataset[i],time))\n",
    "            if bothcheck(dataset[i]) == False and checkMover(dataset[i]) == False:\n",
    "                if i%5==0: \n",
    "                    print(i)\n",
    "                try:\n",
    "                    ev_source = evaluationND(dataset[i],time,rep)\n",
    "                    ev_followup = evaluationND(position, time,rep)\n",
    "                    MR.append(MR_equi(ev_source, ev_followup, delta, epsilon)) ## adding MR to dataframe\n",
    "                    pos1.append(dataset[i]) ## adding original position to dataframe\n",
    "                    pos2.append(position) ## adding transformed position to dataframe\n",
    "                    results1.append(ev_source) ## adding evaluation of original position to dataframe\n",
    "                    results2.append(ev_followup) ## adding evaluation of transformed position to dataframe\n",
    "                    index.append(i) ## adding index to dataframe\n",
    "                except:\n",
    "                        pass\n",
    "        except:\n",
    "            pass\n",
    "    d = {'index' : index, 'pos1' : pos1, 'evaluation pos1' : results1, 'pos2' : pos2, 'evaluation pos2' : results2,\n",
    "        'MR' : MR}\n",
    "    df = pd.DataFrame(data=d) ## creating dataframe\n",
    "    return df"
   ]
  },
  {
   "cell_type": "markdown",
   "id": "50a872f0",
   "metadata": {},
   "source": [
    "An example with the first 10 positions of our dataset. "
   ]
  },
  {
   "cell_type": "code",
   "execution_count": null,
   "id": "886d49f6",
   "metadata": {},
   "outputs": [],
   "source": [
    "a = mainFirst(dataset[0:10],3, 1, 0.25, 25)\n",
    "print(a)"
   ]
  }
 ],
 "metadata": {
  "kernelspec": {
   "display_name": "Python 3 (ipykernel)",
   "language": "python",
   "name": "python3"
  },
  "language_info": {
   "codemirror_mode": {
    "name": "ipython",
    "version": 3
   },
   "file_extension": ".py",
   "mimetype": "text/x-python",
   "name": "python",
   "nbconvert_exporter": "python",
   "pygments_lexer": "ipython3",
   "version": "3.9.12"
  }
 },
 "nbformat": 4,
 "nbformat_minor": 5
}
