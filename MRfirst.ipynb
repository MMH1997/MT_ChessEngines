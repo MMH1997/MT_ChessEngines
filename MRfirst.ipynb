{
 "cells": [
  {
   "cell_type": "markdown",
   "id": "1c79e982",
   "metadata": {},
   "source": [
    "### Import packages "
   ]
  },
  {
   "cell_type": "code",
   "execution_count": 26,
   "id": "30fb8730",
   "metadata": {},
   "outputs": [
    {
     "name": "stdout",
     "output_type": "stream",
     "text": [
      "Defaulting to user installation because normal site-packages is not writeable\n",
      "Requirement already satisfied: chess in c:\\users\\mmh19\\appdata\\roaming\\python\\python39\\site-packages (1.9.3)\n"
     ]
    }
   ],
   "source": [
    "!pip install chess"
   ]
  },
  {
   "cell_type": "code",
   "execution_count": 35,
   "id": "e2a5e561",
   "metadata": {},
   "outputs": [],
   "source": [
    "from stockfish import Stockfish\n",
    "from stockfish import StockfishException\n",
    "import pandas as pd\n",
    "import numpy as np\n",
    "import re\n",
    "import chess\n",
    "import random"
   ]
  },
  {
   "cell_type": "markdown",
   "id": "9cfdf3a0",
   "metadata": {},
   "source": [
    "## Function"
   ]
  },
  {
   "cell_type": "code",
   "execution_count": 36,
   "id": "df3d5a97",
   "metadata": {},
   "outputs": [],
   "source": [
    "def dif1(val1,val2):\n",
    "    if abs(val1)+abs(val2) == 0:\n",
    "        return 0\n",
    "    else:\n",
    "        return abs(val1-val2)/(abs(val1)+abs(val2))\n",
    "def dif2(val1,val2):\n",
    "    return float(abs(val1-val2))"
   ]
  },
  {
   "cell_type": "code",
   "execution_count": 37,
   "id": "e108cef4",
   "metadata": {},
   "outputs": [],
   "source": [
    "def MR_first(o1,o2,delta,epsilon):\n",
    "    final = bool()\n",
    "    if o1[0].get('Mate') != o2[0].get('Mate'):\n",
    "        final = False\n",
    "    elif o1[0].get('Mate') == o2[0].get('Mate') == None and dif1(o1[0].get('Centipawn'),o2[0].get('Centipawn')) > delta and dif2(o1[0].get('Centipawn'),o2[0].get('Centipawn')) >= epsilon:\n",
    "        final = False\n",
    "    else:\n",
    "        final = True\n",
    "    return final"
   ]
  },
  {
   "cell_type": "markdown",
   "id": "c01ea18c",
   "metadata": {},
   "source": [
    "## Example:"
   ]
  },
  {
   "cell_type": "code",
   "execution_count": 39,
   "id": "515902ae",
   "metadata": {},
   "outputs": [],
   "source": [
    "pos1 = '3k3r/3r3p/6n1/2P1b1P1/P2p4/1B6/2PB2K1/5R1R b'\n",
    "pos2 = 'r3k3/p3r3/1n6/1P1b1P2/4p2P/6B1/1K2BP2/R1R5 b'"
   ]
  },
  {
   "cell_type": "code",
   "execution_count": 40,
   "id": "f872b094",
   "metadata": {},
   "outputs": [],
   "source": [
    "stockfish = Stockfish('stockfish_15_x64_avx2.exe')\n",
    "stockfish.set_elo_rating(5000)        \n",
    "stockfish.set_depth(20)\n",
    "stockfish.set_fen_position(pos1)\n",
    "ev1 = stockfish.get_top_moves(1)\n",
    "stockfish.set_fen_position(pos2)\n",
    "ev2 = stockfish.get_top_moves(1)"
   ]
  },
  {
   "cell_type": "code",
   "execution_count": 41,
   "id": "d9f6160d",
   "metadata": {},
   "outputs": [
    {
     "name": "stdout",
     "output_type": "stream",
     "text": [
      "[{'Move': 'd4d3', 'Centipawn': 409, 'Mate': None}] \n",
      " [{'Move': 'e4e3', 'Centipawn': 379, 'Mate': None}]\n"
     ]
    }
   ],
   "source": [
    "print(ev1, \"\\n\", ev2)"
   ]
  },
  {
   "cell_type": "code",
   "execution_count": 43,
   "id": "a648b8e5",
   "metadata": {},
   "outputs": [
    {
     "data": {
      "text/plain": [
       "True"
      ]
     },
     "execution_count": 43,
     "metadata": {},
     "output_type": "execute_result"
    }
   ],
   "source": [
    "MR_first(ev1,ev2,0.5,10)"
   ]
  },
  {
   "cell_type": "code",
   "execution_count": null,
   "id": "a62836fa",
   "metadata": {},
   "outputs": [],
   "source": []
  }
 ],
 "metadata": {
  "kernelspec": {
   "display_name": "Python 3 (ipykernel)",
   "language": "python",
   "name": "python3"
  },
  "language_info": {
   "codemirror_mode": {
    "name": "ipython",
    "version": 3
   },
   "file_extension": ".py",
   "mimetype": "text/x-python",
   "name": "python",
   "nbconvert_exporter": "python",
   "pygments_lexer": "ipython3",
   "version": "3.9.12"
  }
 },
 "nbformat": 4,
 "nbformat_minor": 5
}
