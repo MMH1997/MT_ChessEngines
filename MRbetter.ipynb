{
 "cells": [
  {
   "cell_type": "markdown",
   "id": "1c79e982",
   "metadata": {},
   "source": [
    "### Import packages "
   ]
  },
  {
   "cell_type": "code",
   "execution_count": 2,
   "id": "30fb8730",
   "metadata": {},
   "outputs": [
    {
     "name": "stdout",
     "output_type": "stream",
     "text": [
      "Defaulting to user installation because normal site-packages is not writeable\n",
      "Requirement already satisfied: chess in c:\\users\\mmh19\\appdata\\roaming\\python\\python39\\site-packages (1.9.3)\n"
     ]
    }
   ],
   "source": [
    "!pip install chess"
   ]
  },
  {
   "cell_type": "code",
   "execution_count": 3,
   "id": "e2a5e561",
   "metadata": {},
   "outputs": [],
   "source": [
    "from stockfish import Stockfish\n",
    "from stockfish import StockfishException\n",
    "import pandas as pd\n",
    "import numpy as np\n",
    "import re\n",
    "import chess\n",
    "import random"
   ]
  },
  {
   "cell_type": "markdown",
   "id": "9cfdf3a0",
   "metadata": {},
   "source": [
    "## Function"
   ]
  },
  {
   "cell_type": "code",
   "execution_count": 4,
   "id": "ea994e97",
   "metadata": {},
   "outputs": [],
   "source": [
    "def dif1(val1,val2):\n",
    "    if abs(val1)+abs(val2) == 0:\n",
    "        return 0\n",
    "    else:\n",
    "        return abs(val1-val2)/(abs(val1)+abs(val2))\n",
    "def dif2(val1,val2):\n",
    "    return float(abs(val1-val2))"
   ]
  },
  {
   "cell_type": "code",
   "execution_count": 5,
   "id": "e108cef4",
   "metadata": {},
   "outputs": [],
   "source": [
    "def MR_better(o1,o2,delta,epsilon):\n",
    "    final = bool()\n",
    "    if o1.get('type') != o2.get('type') and o2.get('type') != 'mate':\n",
    "        final = False\n",
    "    elif o1.get('type') == o2.get('type') == 'mate' and o1.get('value') < o2.get('value') and o1.get('value') > 0:\n",
    "        final = False\n",
    "    elif o1.get('type') == o2.get('type') == 'mate' and o1.get('value') > o2.get('value') and o1.get('value') < 0:\n",
    "        final = False\n",
    "    elif o1.get('type') == o2.get('type') == 'cp' and o1.get('value') > o2.get('value') and dif1(o1.get('value'),o2.get('value')) > delta and dif2(o1.get('value'),o2.get('value')) >= epsilon:\n",
    "        final = False\n",
    "    else:\n",
    "        final = True\n",
    "    return final"
   ]
  },
  {
   "cell_type": "markdown",
   "id": "c01ea18c",
   "metadata": {},
   "source": [
    "## Example:"
   ]
  },
  {
   "cell_type": "code",
   "execution_count": 10,
   "id": "e328017f",
   "metadata": {},
   "outputs": [],
   "source": [
    "pos1 = '1kb5/1p1np1Rp/pqpB1p2/n7/2P1P3/PP2NPP1/1K1P3P/8 b'\n",
    "pos2 = '1kb5/1p1np1Rp/pqpQ1p2/n7/2P1P3/PP2NPP1/1K1P3P/8 b'"
   ]
  },
  {
   "cell_type": "code",
   "execution_count": 11,
   "id": "8329bf5a",
   "metadata": {},
   "outputs": [],
   "source": [
    "stockfish = Stockfish('stockfish_15_x64_avx2.exe')\n",
    "stockfish.set_elo_rating(5000)        \n",
    "stockfish.set_depth(20)\n",
    "stockfish.set_fen_position(pos1)\n",
    "ev1 = stockfish.get_evaluation()\n",
    "stockfish.set_fen_position(pos2)\n",
    "ev2 = stockfish.get_evaluation()"
   ]
  },
  {
   "cell_type": "code",
   "execution_count": 12,
   "id": "26575ae7",
   "metadata": {},
   "outputs": [
    {
     "name": "stdout",
     "output_type": "stream",
     "text": [
      "{'type': 'cp', 'value': -1791} \n",
      " {'type': 'cp', 'value': -1407}\n"
     ]
    }
   ],
   "source": [
    "print(ev1, \"\\n\", ev2)"
   ]
  },
  {
   "cell_type": "code",
   "execution_count": 14,
   "id": "66206b0f",
   "metadata": {},
   "outputs": [
    {
     "data": {
      "text/plain": [
       "True"
      ]
     },
     "execution_count": 14,
     "metadata": {},
     "output_type": "execute_result"
    }
   ],
   "source": [
    "MR_better(ev1,ev2,0.3,75)"
   ]
  }
 ],
 "metadata": {
  "kernelspec": {
   "display_name": "Python 3 (ipykernel)",
   "language": "python",
   "name": "python3"
  },
  "language_info": {
   "codemirror_mode": {
    "name": "ipython",
    "version": 3
   },
   "file_extension": ".py",
   "mimetype": "text/x-python",
   "name": "python",
   "nbconvert_exporter": "python",
   "pygments_lexer": "ipython3",
   "version": "3.9.12"
  }
 },
 "nbformat": 4,
 "nbformat_minor": 5
}
